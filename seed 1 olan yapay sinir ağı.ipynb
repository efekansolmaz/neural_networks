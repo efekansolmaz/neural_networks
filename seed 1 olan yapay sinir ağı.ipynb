{
 "cells": [
  {
   "cell_type": "code",
   "execution_count": 1,
   "id": "f3624023",
   "metadata": {},
   "outputs": [
    {
     "name": "stderr",
     "output_type": "stream",
     "text": [
      "C:\\Users\\efekan\\AppData\\Local\\Programs\\Python\\Python311\\Lib\\site-packages\\torch\\random.py:46: UserWarning: Failed to initialize NumPy: No module named 'numpy' (Triggered internally at ..\\torch\\csrc\\utils\\tensor_numpy.cpp:84.)\n",
      "  return default_generator.manual_seed(seed)\n"
     ]
    }
   ],
   "source": [
    "import torch\n",
    "\n",
    "torch.manual_seed(1) \n",
    "\n",
    "X = torch.tensor([[1, 2, 3], [4, 5, 6]], dtype=torch.float)  "
   ]
  },
  {
   "cell_type": "code",
   "execution_count": 2,
   "id": "512060aa",
   "metadata": {},
   "outputs": [],
   "source": [
    "def sigmoid_activation(x):\n",
    "\n",
    "  return 1 / (1 + torch.exp(-x))"
   ]
  },
  {
   "cell_type": "code",
   "execution_count": 3,
   "id": "64fc0954",
   "metadata": {},
   "outputs": [],
   "source": [
    "def tanh_activation(x):\n",
    "\n",
    "  return (torch.exp(x) - torch.exp(-x)) / (torch.exp(x) + torch.exp(-x)) "
   ]
  },
  {
   "cell_type": "code",
   "execution_count": 6,
   "id": "d0decd35",
   "metadata": {},
   "outputs": [],
   "source": [
    "import torch.nn as nn\n",
    "\n",
    "class Siniragi(nn.Module):\n",
    "    def __init__(self):\n",
    "        super(Siniragi, self).__init__()\n",
    "        self.hidden = nn.Linear(3, 50)  \n",
    "        self.output = nn.Linear(50, 1)  \n",
    "\n",
    "    def forward(self, x):\n",
    "        x = tanh_activation(self.hidden(x))  \n",
    "        x = sigmoid_activation(self.output(x))  \n",
    "        return x\n",
    "\n",
    "model = Siniragi()  "
   ]
  },
  {
   "cell_type": "code",
   "execution_count": 7,
   "id": "7065c511",
   "metadata": {},
   "outputs": [
    {
     "name": "stdout",
     "output_type": "stream",
     "text": [
      "tensor([[0.4892],\n",
      "        [0.5566]], grad_fn=<MulBackward0>)\n"
     ]
    }
   ],
   "source": [
    "output = model(X)\n",
    "\n",
    "print(output)"
   ]
  }
 ],
 "metadata": {
  "kernelspec": {
   "display_name": "Python 3 (ipykernel)",
   "language": "python",
   "name": "python3"
  },
  "language_info": {
   "codemirror_mode": {
    "name": "ipython",
    "version": 3
   },
   "file_extension": ".py",
   "mimetype": "text/x-python",
   "name": "python",
   "nbconvert_exporter": "python",
   "pygments_lexer": "ipython3",
   "version": "3.11.3"
  }
 },
 "nbformat": 4,
 "nbformat_minor": 5
}
